{
 "cells": [
  {
   "cell_type": "markdown",
   "id": "13d51670-a24a-4fc4-a491-789867e396fd",
   "metadata": {},
   "source": [
    "# NumPy\n",
    "\n",
    "NumPy is a fundamental package for scientific computing in Python. It provides support for arrays, matrices, and high-level mathematical functions. NumPy arrays are more efficient than Python lists when it comes to handling large datasets and numerical computations because they provide faster and more memory-efficient operations.\n",
    "\n",
    "It also has functions for working in domain of linear algebra, fourier transform, and matrices.\n",
    "\n",
    "The array object in NumPy is called ndarray, it provides a lot of supporting functions that make working with ndarray very easy.\n",
    "Arrays are very frequently used in data science, where speed and resources are very important."
   ]
  },
  {
   "cell_type": "markdown",
   "id": "a2b8706c-7645-4f63-9573-383e9175c375",
   "metadata": {},
   "source": [
    "Why Use NumPy?\n",
    "\n",
    "* Efficiency: NumPy arrays are stored more compactly and perform faster operations compared to Python lists.\n",
    "* Convenient Functions: NumPy provides many built-in mathematical functions, making numerical tasks simpler.\n",
    "* Broadcasting: NumPy can perform operations between arrays of different shapes in a very flexible way using broadcasting.\n",
    "\n",
    "\n",
    "## Installation\n",
    "\n",
    "Install it using this command: `pip install numpy`"
   ]
  },
  {
   "cell_type": "code",
   "execution_count": null,
   "id": "1dbbe595-df4f-4472-991b-fb1a5c26f79f",
   "metadata": {
    "scrolled": true
   },
   "outputs": [],
   "source": [
    "pip install numpy"
   ]
  },
  {
   "cell_type": "code",
   "execution_count": null,
   "id": "602d8420-4760-4bb1-9a98-ee0ad0ccef94",
   "metadata": {},
   "outputs": [],
   "source": [
    "# Importing NumPy\n",
    "import numpy as np\n",
    "\n",
    "# Creating a simple 1D NumPy array\n",
    "array = np.array([1, 2, 3, 4, 5])\n",
    "print(\"NumPy Array:\", array)\n",
    "\n",
    "# Checking the type of the array\n",
    "print(\"Type:\", type(array))"
   ]
  },
  {
   "cell_type": "markdown",
   "id": "566b7fc5-9df6-4495-98fe-9e1debe24c89",
   "metadata": {},
   "source": [
    "## NumPy Arrays\n",
    "\n",
    "There are different types of arrays you can create:\n",
    "\n",
    "* 1D arrays: One-dimensional arrays (similar to a list).\n",
    "* 2D arrays: Two-dimensional arrays (like a matrix).\n",
    "* nD arrays: Multidimensional arrays."
   ]
  },
  {
   "cell_type": "code",
   "execution_count": null,
   "id": "506026fe-22aa-4404-b4da-b8c56520955e",
   "metadata": {},
   "outputs": [],
   "source": [
    "# Creating different types of NumPy arrays\n",
    "\n",
    "# 1D array\n",
    "array_1d = np.array([1, 2, 3, 4, 5])\n",
    "print(\"1D Array:\", array_1d)\n",
    "\n",
    "# 2D array (Matrix)\n",
    "array_2d = np.array([[1, 2, 3], [4, 5, 6]])\n",
    "print(\"\\n2D Array (Matrix):\\n\", array_2d)\n",
    "\n",
    "# 3D array\n",
    "array_3d = np.array([[[1, 2, 3], [4, 5, 6]], [[7, 8, 9], [10, 11, 12]]])\n",
    "print(\"\\n3D Array:\\n\", array_3d)"
   ]
  },
  {
   "cell_type": "markdown",
   "id": "6559071d-5e09-4172-ad89-e3836a015336",
   "metadata": {},
   "source": [
    "### Check Number of Dimensions\n",
    "\n",
    "NumPy Arrays provides the `ndim` attribute that returns an integer that tells us how many dimensions the array have."
   ]
  },
  {
   "cell_type": "code",
   "execution_count": null,
   "id": "e79a886a-6a51-445e-9a9a-0f60af9422e9",
   "metadata": {},
   "outputs": [],
   "source": [
    "a = np.array(42)\n",
    "b = np.array([1, 2, 3, 4, 5])\n",
    "c = np.array([[1, 2, 3], [4, 5, 6]])\n",
    "d = np.array([[[1, 2, 3], [4, 5, 6]], [[1, 2, 3], [4, 5, 6]]])\n",
    "\n",
    "print(a.ndim)\n",
    "print(b.ndim)\n",
    "print(c.ndim)\n",
    "print(d.ndim)"
   ]
  },
  {
   "cell_type": "markdown",
   "id": "1f71d672-abf9-4b0d-a37e-22407e95fa32",
   "metadata": {},
   "source": [
    "## Array Indexing and Slicing\n",
    "\n",
    "Array indexing and slicing in NumPy are similar to that in Python lists but much more powerful. You can access individual elements using indices, and you can also slice arrays to get subarrays.\n",
    "\n",
    "* Indexing: Accessing individual elements using square brackets [].\n",
    "* Slicing: Extracting a portion of the array by specifying a start, stop, and step."
   ]
  },
  {
   "cell_type": "code",
   "execution_count": null,
   "id": "6b3c6e90-cce1-4449-bb48-c10e210937df",
   "metadata": {},
   "outputs": [],
   "source": [
    "# Creating a 2D array\n",
    "array_2d = np.array([[1, 2, 3], [4, 5, 6], [7, 8, 9]])\n",
    "\n",
    "# Indexing: Accessing an element\n",
    "element = array_2d[1, 2]  # Access element in the second row, third column\n",
    "print(\"Element at [1, 2]:\", element)\n",
    "\n",
    "# Slicing: Getting a subarray\n",
    "subarray = array_2d[0:2, 1:3]  # Get elements from rows 0-1 and columns 1-2\n",
    "print(\"\\nSliced Array:\\n\", subarray)\n",
    "\n",
    "# 3D Accessing\n",
    "arr = np.array([[[1, 2, 3], [4, 5, 6]], [[7, 8, 9], [10, 11, 12]]])\n",
    "print(arr[0, 1, 2])"
   ]
  },
  {
   "cell_type": "markdown",
   "id": "38fd8adc-52de-4dc0-b857-47cc3ee7d695",
   "metadata": {},
   "source": [
    "## : Operator"
   ]
  },
  {
   "cell_type": "markdown",
   "id": "d83f8c01-409d-4603-a658-bf6d85c7b4a9",
   "metadata": {},
   "source": [
    "In NumPy, the colon operator `:` is a powerful tool used for slicing and indexing arrays. It allows you to access and manipulate subarrays or specific parts of arrays with great flexibility. The colon operator can be used in various ways to select rows, columns, or ranges of elements."
   ]
  },
  {
   "cell_type": "markdown",
   "id": "a33f2428-7b2d-4346-a087-c4216a486806",
   "metadata": {},
   "source": [
    "* Basic Slicing\n",
    "\n",
    "The basic syntax for slicing is array `start:stop:step`. This allows you to extract a part of an array by specifying a range of indices.\n",
    "\n",
    "* start: The starting index (inclusive). If omitted, it defaults to 0.\n",
    "* stop: The stopping index (exclusive). If omitted, it defaults to the length of the array.\n",
    "* step: The step size, or how many elements to skip between each index. If omitted, it defaults to 1."
   ]
  },
  {
   "cell_type": "code",
   "execution_count": null,
   "id": "f52134bd-514f-43d7-8317-f554cc36f962",
   "metadata": {},
   "outputs": [],
   "source": [
    "import numpy as np\n",
    "\n",
    "# Creating a 1D array\n",
    "array = np.array([0, 1, 2, 3, 4, 5, 6, 7, 8, 9])\n",
    "\n",
    "# Basic slicing: Extract elements from index 2 to 5\n",
    "slice_1 = array[2:6]\n",
    "print(\"Sliced Array [2:6]:\", slice_1)\n",
    "\n",
    "# Slicing with step: Extract every second element\n",
    "slice_2 = array[::2]\n",
    "print(\"Sliced Array [::2] (every second element):\", slice_2)\n",
    "\n",
    "# Slicing with negative step: Reverse the array\n",
    "slice_3 = array[::-1]\n",
    "print(\"Sliced Array [::-1] (reverse):\", slice_3)"
   ]
  },
  {
   "cell_type": "markdown",
   "id": "d3f72e23-88e8-4afd-a47e-4fe1ac27e04f",
   "metadata": {},
   "source": [
    "* Slicing 2D Arrays (Matrices)\n",
    "\n",
    "For 2D arrays, you can use the colon operator to slice both rows and columns. You can specify different slicing rules for each dimension.\n",
    "\n",
    "The general format is array `row_start:row_stop, col_start:col_stop`."
   ]
  },
  {
   "cell_type": "code",
   "execution_count": null,
   "id": "c59c2b07-1200-444e-8088-2779cc1c2523",
   "metadata": {},
   "outputs": [],
   "source": [
    "# Creating a 2D array (matrix)\n",
    "matrix = np.array([[1, 2, 3, 4], \n",
    "                   [5, 6, 7, 8], \n",
    "                   [9, 10, 11, 12]])\n",
    "\n",
    "# Slice to get the first two rows and the first three columns\n",
    "slice_2d = matrix[0:2, 0:3]\n",
    "print(\"Sliced Matrix (first 2 rows and first 3 columns):\\n\", slice_2d)\n",
    "\n",
    "# Combining slicing with integer indexing: Get second row\n",
    "slice_row = matrix[1, :]\n",
    "print(\"\\nSecond Row:\", slice_row)\n",
    "\n",
    "# Combining slicing with integer indexing: Get third column\n",
    "slice_col = matrix[:, 2]\n",
    "print(\"\\nThird Column:\", slice_col)\n",
    "\n",
    "# Slice to get all rows but only the last two columns\n",
    "slice_2d_cols = matrix[:, 2:]\n",
    "print(\"\\nSliced Matrix (all rows, last 2 columns):\\n\", slice_2d_cols)\n",
    "\n",
    "# Slice to get the second and third rows and all columns\n",
    "slice_2d_rows = matrix[1:3, :]\n",
    "print(\"\\nSliced Matrix (rows 1 and 2, all columns):\\n\", slice_2d_rows)"
   ]
  },
  {
   "cell_type": "markdown",
   "id": "10267f39-4d12-4373-b1e6-9351245cea53",
   "metadata": {},
   "source": [
    "## Array Creation Methods\n",
    "\n",
    "NumPy provides several methods for creating arrays with different values. This allows you to create arrays filled with zeroes, ones, or random numbers. Some common methods include:\n",
    "\n",
    "* np.zeros(): Creates an array filled with zeros.\n",
    "* np.ones(): Creates an array filled with ones.\n",
    "* np.arange(): Creates an array with a range of numbers.\n",
    "* np.linspace(): Creates an array with evenly spaced values between two numbers."
   ]
  },
  {
   "cell_type": "code",
   "execution_count": null,
   "id": "89087717-7abd-49b2-8e5f-5361c3c45c38",
   "metadata": {},
   "outputs": [],
   "source": [
    "# Creating arrays with different methods\n",
    "\n",
    "# Array filled with zeros\n",
    "zeros_array = np.zeros((3, 3))\n",
    "print(\"Array of Zeros:\\n\", zeros_array)\n",
    "\n",
    "# Array filled with ones\n",
    "ones_array = np.ones((2, 4))\n",
    "print(\"\\nArray of Ones:\\n\", ones_array)\n",
    "\n",
    "# Array with a range of numbers\n",
    "range_array = np.arange(0, 10, 2)\n",
    "print(\"\\nArray with Range of Numbers:\", range_array)\n",
    "\n",
    "# Array with evenly spaced values between 0 and 1\n",
    "linspace_array = np.linspace(0, 1, 5)\n",
    "print(\"\\nArray with Evenly Spaced Values:\", linspace_array)"
   ]
  },
  {
   "cell_type": "markdown",
   "id": "a336ea68-19ac-4219-bbc6-a3a397f87583",
   "metadata": {},
   "source": [
    "## Data Types\n",
    "\n",
    "NumPy has some extra data types, and refer to data types with one character, like `i` for integers, `u` for unsigned integers etc.\n",
    "\n",
    "Below is a list of all data types in NumPy and the characters used to represent them.\n",
    "\n",
    "* i - integer\n",
    "* b - boolean\n",
    "* u - unsigned integer\n",
    "* f - float\n",
    "* c - complex float\n",
    "* m - timedelta\n",
    "* M - datetime\n",
    "* O - object\n",
    "* S - string\n",
    "* U - unicode string\n",
    "* V - fixed chunk of memory for other type ( void )"
   ]
  },
  {
   "cell_type": "code",
   "execution_count": null,
   "id": "b253881b-174b-4a6a-99e5-56049c3f1aaa",
   "metadata": {},
   "outputs": [],
   "source": [
    "import numpy as np\n",
    "\n",
    "# Creating a NumPy array and checking its data type\n",
    "array = np.array([1, 2, 3])\n",
    "print(\"Array:\", array)\n",
    "print(\"Data type:\", array.dtype)"
   ]
  },
  {
   "cell_type": "markdown",
   "id": "bb885124-e68e-48f5-84fb-c1c1f61e588a",
   "metadata": {},
   "source": [
    "You can check the data type of a NumPy array using the dtype attribute. You can also change the data type using the `astype()` method, which returns a copy of the array with the specified data type.\n",
    "\n",
    "* array.dtype: Returns the data type of the array.\n",
    "* array.astype(): Converts the data type of the array to another specified type."
   ]
  },
  {
   "cell_type": "code",
   "execution_count": null,
   "id": "a7f7960d-7e89-476e-9ec7-6401982c58d1",
   "metadata": {},
   "outputs": [],
   "source": [
    "# Creating a NumPy array with integers\n",
    "array = np.array([1, 2, 3, 4])\n",
    "\n",
    "# Checking the data type\n",
    "print(\"Original Data Type:\", array.dtype)\n",
    "\n",
    "# Changing the data type to float\n",
    "array_float = array.astype(float)\n",
    "print(\"Array with Float Data Type:\", array_float)\n",
    "print(\"New Data Type:\", array_float.dtype)"
   ]
  },
  {
   "cell_type": "code",
   "execution_count": null,
   "id": "69583371-a306-4220-b154-a3a2cbd8f0f5",
   "metadata": {},
   "outputs": [],
   "source": [
    "# Creating arrays with different data types\n",
    "int_array = np.array([1, 2, 3], dtype='int16')\n",
    "float_array = np.array([1.5, 2.5, 3.5], dtype='float32')\n",
    "bool_array = np.array([0, 1, 0], dtype='bool_')\n",
    "\n",
    "print(\"Integer Array:\", int_array)\n",
    "print(\"Data Type:\", int_array.dtype)\n",
    "\n",
    "print(\"\\nFloat Array:\", float_array)\n",
    "print(\"Data Type:\", float_array.dtype)\n",
    "\n",
    "print(\"\\nBoolean Array:\", bool_array)\n",
    "print(\"Data Type:\", bool_array.dtype)\n",
    "\n",
    "# Creating a float array with specified data type\n",
    "float_array = np.array([1, 2, 3], dtype='float64')\n",
    "print(\"Array with float64 data type:\", float_array)\n",
    "print(\"Data Type:\", float_array.dtype)\n",
    "\n",
    "array_int8 = np.ones(1000000, dtype='int8')\n",
    "array_int64 = np.ones(1000000, dtype='int64')\n",
    "\n",
    "print(\"Memory usage for int8 array:\", array_int8.nbytes, \"bytes\")\n",
    "print(\"Memory usage for int64 array:\", array_int64.nbytes, \"bytes\")"
   ]
  },
  {
   "cell_type": "markdown",
   "id": "47caba68-67bb-4dc9-809b-505c410408c3",
   "metadata": {},
   "source": [
    "## Array Shape and Reshaping\n",
    "\n",
    "The shape of a NumPy array is the number of elements in each dimension (e.g., rows and columns for a 2D array). The shape is defined by a tuple, and you can use the .shape attribute to check it.\n",
    "\n",
    "* array.shape: Returns the shape of the array.\n",
    "* array.reshape(): Reshapes the array to the specified dimensions."
   ]
  },
  {
   "cell_type": "code",
   "execution_count": null,
   "id": "03316128-5f69-4e76-a6ea-c26b86e741f4",
   "metadata": {},
   "outputs": [],
   "source": [
    "# Creating a 1D array\n",
    "array_1d = np.array([1, 2, 3, 4, 5, 6])\n",
    "\n",
    "# Checking the shape of the array\n",
    "print(\"Original Shape:\", array_1d.shape)\n",
    "\n",
    "# Reshaping the array into a 2x3 matrix\n",
    "array_reshaped = array_1d.reshape(2, 3)\n",
    "print(\"\\nReshaped Array:\\n\", array_reshaped)\n",
    "\n",
    "# Checking the shape of the reshaped array\n",
    "print(\"Reshaped Array Shape:\", array_reshaped.shape)"
   ]
  },
  {
   "cell_type": "markdown",
   "id": "8b3f61f1-be1d-4e5f-93a6-dff0638f36e1",
   "metadata": {},
   "source": [
    "#### Unknown Dimension\n",
    "\n",
    "You are allowed to have one \"unknown\" dimension. Meaning that you do not have to specify an exact number for one of the dimensions in the reshape method. Pass -1 as the value, and NumPy will calculate this number for you. <br> Note: We can not pass -1 to more than one dimension.\n",
    "\n"
   ]
  },
  {
   "cell_type": "code",
   "execution_count": null,
   "id": "cc5eaa80-ff2f-4eab-86c7-fba12cfa8f86",
   "metadata": {},
   "outputs": [],
   "source": [
    "import numpy as np\n",
    "\n",
    "arr = np.array([1, 2, 3, 4, 5, 6, 7, 8])\n",
    "\n",
    "newarr = arr.reshape(-1, 2)\n",
    "\n",
    "print(newarr)"
   ]
  },
  {
   "cell_type": "markdown",
   "id": "42a9ffac-2dc9-42c6-8eac-0b931f030f0c",
   "metadata": {},
   "source": [
    "* Flattening the arrays\n",
    "\n",
    "Flattening array means converting a multidimensional array into a 1D array.<br>\n",
    "We can use reshape(-1) to do this.\n",
    "\n"
   ]
  },
  {
   "cell_type": "code",
   "execution_count": null,
   "id": "3eaecd08-a449-45f9-b186-75c6234928a8",
   "metadata": {},
   "outputs": [],
   "source": [
    "import numpy as np\n",
    "\n",
    "arr = np.array([[1, 2, 3], [4, 5, 6]])\n",
    "\n",
    "newarr = arr.reshape(-1)\n",
    "\n",
    "print(newarr)"
   ]
  },
  {
   "cell_type": "markdown",
   "id": "2924ac1d-5ab0-4ad5-a7ff-d24445a89b61",
   "metadata": {},
   "source": [
    "### Array Broadcasting\n",
    "Broadcasting allows NumPy to perform operations on arrays of different shapes and sizes in an efficient manner. This happens when arrays have compatible shapes (e.g., adding a scalar to an array, or adding arrays of different dimensions but matching sizes in some dimensions).\n",
    "\n",
    "* Broadcasting Rule: NumPy compares the shapes of the arrays element-wise from right to left. Two dimensions are compatible if:\n",
    "  <br> They are equal. <br> One of them is 1.\n"
   ]
  },
  {
   "cell_type": "code",
   "execution_count": null,
   "id": "0c2c4e23-bf8a-414d-8f4e-c1b9bd99b99e",
   "metadata": {},
   "outputs": [],
   "source": [
    "# Broadcasting a scalar to an array\n",
    "array = np.array([1, 2, 3])\n",
    "result = array + 10  # Adds 10 to each element in the array\n",
    "print(\"Broadcasting Scalar Result:\", result)\n",
    "\n",
    "# Broadcasting between arrays\n",
    "matrix = np.array([[1, 2, 3], [4, 5, 6]])\n",
    "vector = np.array([1, 1, 1])\n",
    "result = matrix + vector  # Adds the vector to each row of the matrix\n",
    "print(\"\\nBroadcasting Between Arrays Result:\\n\", result)"
   ]
  },
  {
   "cell_type": "code",
   "execution_count": null,
   "id": "8282a4d5-fc43-4c62-a025-88671d7fa2ef",
   "metadata": {},
   "outputs": [],
   "source": [
    "# Creating two arrays\n",
    "array1 = np.array([1, 2, 3, 4])\n",
    "array2 = np.array([10, 20, 30, 40])\n",
    "\n",
    "# Element-wise addition\n",
    "add_result = array1 + array2\n",
    "print(\"Addition Result:\", add_result)\n",
    "\n",
    "# Element-wise multiplication\n",
    "mul_result = array1 * array2\n",
    "print(\"Multiplication Result:\", mul_result)\n",
    "\n",
    "# Element-wise division\n",
    "div_result = array2 / array1\n",
    "print(\"Division Result:\", div_result)"
   ]
  },
  {
   "cell_type": "markdown",
   "id": "8a47f850-db29-4310-8922-40c8a8bcf2c5",
   "metadata": {},
   "source": [
    "# NumPy in Linear Algebra\n",
    "\n",
    "NumPy provides a variety of tools and functions for performing linear algebra operations efficiently. These operations are fundamental in scientific computing, machine learning, computer vision, data analysis, and more. NumPy offers a module called numpy.linalg that includes key functions for matrix operations, decompositions, and solving linear systems."
   ]
  },
  {
   "cell_type": "code",
   "execution_count": null,
   "id": "21eec0e2-aed2-49d5-8262-93be7f0c294a",
   "metadata": {},
   "outputs": [],
   "source": [
    "A = np.array([[1, 2], [3, 4]])\n",
    "B = np.zeros((2, 3))\n",
    "C = np.eye(3)\n",
    "\n",
    "A , B , C "
   ]
  },
  {
   "cell_type": "markdown",
   "id": "6f366617-28bd-454a-94e2-2f5b1fd4a07a",
   "metadata": {},
   "source": [
    "* Matrix Multiplication"
   ]
  },
  {
   "cell_type": "code",
   "execution_count": null,
   "id": "c7b7070a-5c06-4956-a948-3a7e1981f84a",
   "metadata": {},
   "outputs": [],
   "source": [
    "import numpy as np\n",
    "\n",
    "# Creating two matrices\n",
    "A = np.array([[1, 2], [3, 4]])\n",
    "B = np.array([[5, 6], [7, 8]])\n",
    "\n",
    "# Matrix multiplication\n",
    "result = np.matmul(A, B)\n",
    "print(\"Matrix Multiplication Result:\\n\", result)\n",
    "\n",
    "# Using the @ operator (same as np.matmul)\n",
    "result_operator = A @ B\n",
    "print(\"\\nMatrix Multiplication using @ operator:\\n\", result_operator)"
   ]
  },
  {
   "cell_type": "markdown",
   "id": "2f20b0bb-0526-4d16-b950-236b204c10e5",
   "metadata": {},
   "source": [
    "* Dot Product"
   ]
  },
  {
   "cell_type": "code",
   "execution_count": null,
   "id": "46d393e1-b68e-404b-ab35-e95daa16a314",
   "metadata": {},
   "outputs": [],
   "source": [
    "# Creating two vectors\n",
    "v1 = np.array([1, 2, 3])\n",
    "v2 = np.array([4, 5, 6])\n",
    "\n",
    "# Dot product\n",
    "dot_product = np.dot(v1, v2)\n",
    "print(\"Dot Product:\", dot_product)"
   ]
  },
  {
   "cell_type": "markdown",
   "id": "a7b08140-e795-4d31-8d42-90ac4782f525",
   "metadata": {},
   "source": [
    "* Transposing a Matrix"
   ]
  },
  {
   "cell_type": "code",
   "execution_count": null,
   "id": "8048a236-89c7-4474-900f-8367dc908c1b",
   "metadata": {},
   "outputs": [],
   "source": [
    "# Creating a matrix\n",
    "matrix = np.array([[1, 2, 3], [4, 5, 6]])\n",
    "\n",
    "# Transposing the matrix\n",
    "transpose = np.transpose(matrix)\n",
    "print(\"Transposed Matrix:\\n\", transpose)\n",
    "\n",
    "# Using the .T attribute (same as np.transpose)\n",
    "transpose_T = matrix.T\n",
    "print(\"\\nTransposed Matrix using .T:\\n\", transpose_T)"
   ]
  },
  {
   "cell_type": "markdown",
   "id": "07909863-0db7-4d58-9af4-d091543c0dde",
   "metadata": {},
   "source": [
    "* Determinant of a Matrix"
   ]
  },
  {
   "cell_type": "code",
   "execution_count": null,
   "id": "864370cf-36d9-4a70-b838-ec17dec653b0",
   "metadata": {},
   "outputs": [],
   "source": [
    "# Creating a square matrix\n",
    "matrix = np.array([[1, 2], [3, 4]])\n",
    "\n",
    "# Computing the determinant\n",
    "determinant = np.linalg.det(matrix)\n",
    "print(\"Determinant:\", determinant)"
   ]
  },
  {
   "cell_type": "markdown",
   "id": "5f03554c-d6e5-4f46-b57e-bd5312f1651b",
   "metadata": {},
   "source": [
    "* Inverse of a Matrix"
   ]
  },
  {
   "cell_type": "code",
   "execution_count": null,
   "id": "c69c99ca-f0bf-4bca-9e8b-8ca7038475a8",
   "metadata": {},
   "outputs": [],
   "source": [
    "# Creating a square matrix\n",
    "matrix = np.array([[1, 2], [3, 4]])\n",
    "\n",
    "# Computing the inverse\n",
    "inverse = np.linalg.inv(matrix)\n",
    "print(\"Inverse Matrix:\\n\", inverse)\n",
    "\n",
    "# Verifying: Multiply matrix and its inverse should give the identity matrix\n",
    "identity_check = np.matmul(matrix, inverse)\n",
    "print(\"\\nMatrix * Inverse (Identity Matrix):\\n\", identity_check)"
   ]
  },
  {
   "cell_type": "markdown",
   "id": "3f62d699-df92-46e8-9ca6-4d68d2a9f5c5",
   "metadata": {},
   "source": [
    "* Eigenvalues and Eigenvectors"
   ]
  },
  {
   "cell_type": "code",
   "execution_count": null,
   "id": "4a39e62b-bb6e-4202-87a8-730cff01a5a8",
   "metadata": {},
   "outputs": [],
   "source": [
    "# Creating a square matrix\n",
    "matrix = np.array([[4, 2], [1, 3]])\n",
    "\n",
    "# Computing eigenvalues and eigenvectors\n",
    "eigenvalues, eigenvectors = np.linalg.eig(matrix)\n",
    "print(\"Eigenvalues:\", eigenvalues)\n",
    "print(\"Eigenvectors:\\n\", eigenvectors)"
   ]
  },
  {
   "cell_type": "markdown",
   "id": "68de7c1a-97bf-4a6d-96b6-93311b9cf673",
   "metadata": {},
   "source": [
    "* Solving Linear Systems"
   ]
  },
  {
   "cell_type": "code",
   "execution_count": null,
   "id": "7a1ab33d-07ea-4b13-8338-ef1adea0bf54",
   "metadata": {},
   "outputs": [],
   "source": [
    "# Coefficient matrix A\n",
    "A = np.array([[3, 1], [1, 2]])\n",
    "\n",
    "# Constant vector b\n",
    "b = np.array([9, 8])\n",
    "\n",
    "# Solving the system of equations\n",
    "x = np.linalg.solve(A, b)\n",
    "print(\"Solution (x):\", x)"
   ]
  }
 ],
 "metadata": {
  "kernelspec": {
   "display_name": "Python 3 (ipykernel)",
   "language": "python",
   "name": "python3"
  },
  "language_info": {
   "codemirror_mode": {
    "name": "ipython",
    "version": 3
   },
   "file_extension": ".py",
   "mimetype": "text/x-python",
   "name": "python",
   "nbconvert_exporter": "python",
   "pygments_lexer": "ipython3",
   "version": "3.12.2"
  }
 },
 "nbformat": 4,
 "nbformat_minor": 5
}
